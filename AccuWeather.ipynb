{
 "cells": [
  {
   "cell_type": "markdown",
   "metadata": {},
   "source": [
    "<h3> Load Libraries </h3>"
   ]
  },
  {
   "cell_type": "code",
   "execution_count": 1,
   "metadata": {
    "collapsed": true
   },
   "outputs": [],
   "source": [
    "import numpy as np\n",
    "import pandas as pd\n",
    "import os\n",
    "from selenium.webdriver.support import ui\n",
    "from selenium.webdriver.support import expected_conditions as EC\n",
    "from selenium.webdriver.common.by import By\n",
    "from selenium.webdriver.support.ui import WebDriverWait\n",
    "from selenium import webdriver\n",
    "import time\n",
    "import requests\n",
    "import urllib.request\n",
    "from bs4 import BeautifulSoup\n",
    "import datetime\n",
    "import schedule\n",
    "from apscheduler.schedulers.background import BackgroundScheduler\n",
    "from pytz import utc\n",
    "import logging\n",
    "import random\n",
    "from selenium.webdriver.chrome.options import Options"
   ]
  },
  {
   "cell_type": "markdown",
   "metadata": {},
   "source": [
    "<h3> Global Variables </h3>"
   ]
  },
  {
   "cell_type": "code",
   "execution_count": 2,
   "metadata": {
    "collapsed": true
   },
   "outputs": [],
   "source": [
    "base_path = \"/Users/saraawad/Desktop/Datasets/Google/\""
   ]
  },
  {
   "cell_type": "markdown",
   "metadata": {},
   "source": [
    "<h3> Helpers </h3>"
   ]
  },
  {
   "cell_type": "code",
   "execution_count": 3,
   "metadata": {
    "collapsed": true
   },
   "outputs": [],
   "source": [
    "def remove_symbol(string, symbol):\n",
    "    return string.replace(symbol, '')\n",
    "\n",
    "def remove_symbols(string):\n",
    "    string = string.replace(\"°\", \"\")\n",
    "    string = string.replace(\"%\", \"\")\n",
    "    string = string.replace(\"mm\", \"\")\n",
    "    string = string.replace(\"cm\", \"\")\n",
    "    string = string.replace(\"km\", \"\")\n",
    "    string = string.replace(\"km/h\", \"\")\n",
    "    string = string.replace(\"/h\", \"\")\n",
    "    return string"
   ]
  },
  {
   "cell_type": "code",
   "execution_count": 4,
   "metadata": {
    "collapsed": true
   },
   "outputs": [],
   "source": [
    "def get_driver(latitude, longitude):\n",
    "    #1. Set coordinates\n",
    "    url = \"https://www.accuweather.com/en/search-locations?query=\"+latitude+\"%2C+\"+longitude\n",
    "    chrome_options = Options()\n",
    "#     chrome_options.add_argument(\"--headless\")\n",
    "    chrome_options.add_argument(\"--window-size=1920x1080\")\n",
    "    driver = webdriver.Chrome(options=chrome_options, executable_path='/Users/saraawad/Downloads/opt/WebDriver/bin/chromedriver')\n",
    "    driver.get(url)\n",
    "\n",
    "    #2. Wait a couple of minutes to get the country url\n",
    "    wait = WebDriverWait(driver, 10)\n",
    "    current_url = driver.current_url\n",
    "    print(\"Current URL:\", current_url)\n",
    "\n",
    "    #3. Navigate to the hourly url\n",
    "    driver.find_element_by_xpath(\"/html/body/div/div[4]/div[1]/div[3]/a[3]\").click()\n",
    "    current_url = driver.current_url\n",
    "    print(\"Current URL:\", current_url)\n",
    "    \n",
    "    return driver"
   ]
  },
  {
   "cell_type": "code",
   "execution_count": 5,
   "metadata": {
    "collapsed": true
   },
   "outputs": [],
   "source": [
    "def get_page_content(driver):\n",
    "    soup = BeautifulSoup(driver.page_source, 'html.parser')\n",
    "    return soup\n",
    "\n",
    "def get_temp_per(soup):\n",
    "    #Get Times and remove date from the array\n",
    "    times_temp = soup.select(\"div.date p\")\n",
    "    times = []\n",
    "    for i in range(len(times_temp)):\n",
    "        if i % 2 == 0:\n",
    "            times.append(times_temp[i].get_text().strip())\n",
    "\n",
    "    #Get Dates\n",
    "    dates = soup.select(\"div.date p.sub\")\n",
    "    dates = [pt.get_text().strip() for pt in dates]\n",
    "\n",
    "    #Get Temperatures in Celsius\n",
    "    temperatures = soup.select(\"div.temp.metric\")\n",
    "    temperatures = [remove_symbol(pt.get_text().strip(), \"°\") for pt in temperatures]\n",
    "\n",
    "    #Get Precipitation\n",
    "    preci_tmp = soup.select(\"div.precip\")\n",
    "    preci_tmp = [remove_symbol(pt.get_text().strip(), \"%\") for pt in preci_tmp]\n",
    "    preci = []\n",
    "    for i in range(len(preci_tmp)):\n",
    "        pre = preci_tmp[i]\n",
    "        pre = pre.replace(\"Precip\\n\\t\\t\\t\", \"\")\n",
    "        preci.append(pre)\n",
    "    header_df = pd.DataFrame({\n",
    "        \"Time\": times,\n",
    "        \"Date\": dates,\n",
    "        \"Year\": datetime.datetime.now().year,\n",
    "        \"Temperature\": temperatures,\n",
    "        \"Percipitation\": pre\n",
    "    })\n",
    "\n",
    "    return header_df"
   ]
  },
  {
   "cell_type": "code",
   "execution_count": 6,
   "metadata": {
    "collapsed": true
   },
   "outputs": [],
   "source": [
    "def get_detailed_info(soup):\n",
    "    panel = soup.select(\"div.hourly-forecast-card-content div.panel p\")\n",
    "    details = [pt.get_text().strip().split(\":\")[1].strip() for pt in panel]\n",
    "\n",
    "    details_temp = []\n",
    "    for element in details:\n",
    "        element = remove_symbols(element)\n",
    "        details_temp.append(element)\n",
    "\n",
    "    details = details_temp\n",
    "\n",
    "    row_num = 0\n",
    "    rows = []\n",
    "    columns = []\n",
    "\n",
    "    for i in range(len(details)):\n",
    "        row_num += 1\n",
    "        if row_num == 12:\n",
    "            columns = details[i-11:i]\n",
    "            rows.append(columns)\n",
    "            row_num = 0\n",
    "\n",
    "    content_df = pd.DataFrame(rows)\n",
    "    content_df.columns = [\"RealFeel\", \"Wind\", \"Gusts\", \"Humidity\", \"Dew Point\", \"Max UV Index\", \n",
    "                           \"Cloud Cover\", \"Rain\", \"Snow\", \"Ice\", \"Visibility\"]\n",
    "\n",
    "    content_df[\"Wind Unit\"] = \"\"\n",
    "\n",
    "    w_index = content_df.columns.get_loc(\"Wind\")\n",
    "    w_unit_index = content_df.columns.get_loc(\"Wind Unit\")\n",
    "\n",
    "    for i in range(len(content_df)):\n",
    "        wind_str = str(content_df.iloc[i, w_index]).split(\" \")\n",
    "        content_df.iloc[i, w_index] = wind_str[0]\n",
    "        content_df.iloc[i, w_unit_index] = \"km/h \" + wind_str[2]\n",
    "    \n",
    "    return content_df"
   ]
  },
  {
   "cell_type": "code",
   "execution_count": 7,
   "metadata": {
    "collapsed": true
   },
   "outputs": [],
   "source": [
    "def generate_weather_data(driver):\n",
    "    soup = get_page_content(driver)\n",
    "    header_df = get_temp_per(soup)\n",
    "    content_df = get_detailed_info(soup)\n",
    "    weather_df = pd.concat([header_df, content_df], axis=1)\n",
    "    return weather_df "
   ]
  },
  {
   "cell_type": "code",
   "execution_count": 8,
   "metadata": {
    "collapsed": true
   },
   "outputs": [],
   "source": [
    "def save_data(latitude, longitude, city_name):\n",
    "    driver = get_driver(latitude, longitude)\n",
    "    df = generate_weather_data(driver)\n",
    "    date = datetime.datetime.now()\n",
    "    time_str = str(date.strftime(\"%I\" \"%p\"))\n",
    "    date_str = str(date.year) + \"-\" + str(date.month) + \"-\" + str(date.day) + \" \" + time_str\n",
    "    file_name = date_str + \"_\" + city_name + \".csv\"\n",
    "    print(\"file name:\", file_name)\n",
    "    export_path = os.path.join(base_path, file_name)\n",
    "    export_csv = df.to_csv (export_path, index = None, header=True)\n",
    "    driver.quit()"
   ]
  },
  {
   "cell_type": "code",
   "execution_count": 10,
   "metadata": {},
   "outputs": [],
   "source": [
    "#Get weather data for pre-defined city list\n",
    "full_path = os.path.join(base_path, \"cities_locations.xlsx\")\n",
    "df = pd.read_excel(full_path)\n",
    "\n",
    "def weather_forcast():\n",
    "    for i in range(len(df)):\n",
    "        city_name = str(df.iloc[i,0])\n",
    "        latitude = str(df.iloc[i,1])\n",
    "        longitude = str(df.iloc[i,2])\n",
    "        save_data(latitude, longitude, city_name)\n",
    "        #Add random delay between each request\n",
    "        timeDelay = random.randrange(0, 10)\n",
    "        time.sleep(timeDelay)\n",
    "        "
   ]
  },
  {
   "cell_type": "code",
   "execution_count": 10,
   "metadata": {},
   "outputs": [
    {
     "name": "stderr",
     "output_type": "stream",
     "text": [
      "INFO:apscheduler.scheduler:Added job \"weather_forcast\" to job store \"default\"\n",
      "INFO:apscheduler.scheduler:Added job \"weather_forcast\" to job store \"default\"\n",
      "INFO:apscheduler.scheduler:Added job \"weather_forcast\" to job store \"default\"\n",
      "INFO:apscheduler.scheduler:Scheduler started\n",
      "DEBUG:apscheduler.scheduler:Looking for jobs to run\n",
      "DEBUG:apscheduler.scheduler:Next wakeup is due at 2019-12-21 16:00:00+02:00 (in 15432.103950 seconds)\n",
      "DEBUG:apscheduler.scheduler:Looking for jobs to run\n",
      "INFO:apscheduler.executors.default:Running job \"weather_forcast (trigger: cron[day_of_week='mon-sun', hour='16', minute='0'], next run at: 2019-12-21 16:00:00 EET)\" (scheduled at 2019-12-21 16:00:00+02:00)\n",
      "DEBUG:apscheduler.scheduler:Next wakeup is due at 2019-12-22 07:00:00+02:00 (in 53999.341216 seconds)\n"
     ]
    },
    {
     "name": "stdout",
     "output_type": "stream",
     "text": [
      "Current URL: https://www.accuweather.com/en/lb/akkar-al-atiqah/226717/weather-forecast/226717\n",
      "Current URL: https://www.accuweather.com/en/lb/akkar-al-atiqah/226717/hourly-weather-forecast/226717\n",
      "file name: 2019-12-21 04PM_Akkar.csv\n",
      "Current URL: https://www.accuweather.com/en/lb/adlun/228606/weather-forecast/228606\n",
      "Current URL: https://www.accuweather.com/en/lb/adlun/228606/hourly-weather-forecast/228606\n",
      "file name: 2019-12-21 04PM_Adloun.csv\n",
      "Current URL: https://www.accuweather.com/en/lb/ed-damour/229249/weather-forecast/229249\n",
      "Current URL: https://www.accuweather.com/en/lb/ed-damour/229249/hourly-weather-forecast/229249\n",
      "file name: 2019-12-21 04PM_Damour.csv\n",
      "Current URL: https://www.accuweather.com/en/lb/al-qa/227230/weather-forecast/227230\n",
      "Current URL: https://www.accuweather.com/en/lb/al-qa/227230/hourly-weather-forecast/227230\n",
      "file name: 2019-12-21 04PM_AlQaa.csv\n",
      "Current URL: https://www.accuweather.com/en/lb/jubb-jannin/227350/weather-forecast/227350\n",
      "Current URL: https://www.accuweather.com/en/lb/jubb-jannin/227350/hourly-weather-forecast/227350\n",
      "file name: 2019-12-21 04PM_Jeb Jeneen.csv\n",
      "Current URL: https://www.accuweather.com/en/lb/al-labwah/227229/weather-forecast/227229\n",
      "Current URL: https://www.accuweather.com/en/lb/al-labwah/227229/hourly-weather-forecast/227229\n",
      "file name: 2019-12-21 04PM_Labweh.csv\n",
      "Current URL: https://www.accuweather.com/en/lb/balabakk/227231/weather-forecast/227231\n",
      "Current URL: https://www.accuweather.com/en/lb/balabakk/227231/hourly-weather-forecast/227231\n",
      "file name: 2019-12-21 04PM_Baalbeck.csv\n",
      "Current URL: https://www.accuweather.com/en/lb/sur/228605/weather-forecast/228605\n",
      "Current URL: https://www.accuweather.com/en/lb/sur/228605/hourly-weather-forecast/228605\n",
      "file name: 2019-12-21 04PM_Sour.csv\n",
      "Current URL: https://www.accuweather.com/en/lb/an-naqurah/228607/weather-forecast/228607\n",
      "Current URL: https://www.accuweather.com/en/lb/an-naqurah/228607/hourly-weather-forecast/228607\n",
      "file name: 2019-12-21 04PM_Naqoura.csv\n",
      "Current URL: https://www.accuweather.com/en/lb/riyaq/227355/weather-forecast/227355\n",
      "Current URL: https://www.accuweather.com/en/lb/riyaq/227355/hourly-weather-forecast/227355\n",
      "file name: 2019-12-21 04PM_Riyaq.csv\n"
     ]
    },
    {
     "name": "stderr",
     "output_type": "stream",
     "text": [
      "INFO:apscheduler.executors.default:Job \"weather_forcast (trigger: cron[day_of_week='mon-sun', hour='16', minute='0'], next run at: 2019-12-22 16:00:00 EET)\" executed successfully\n",
      "DEBUG:apscheduler.scheduler:Looking for jobs to run\n",
      "WARNING:apscheduler.executors.default:Run time of job \"weather_forcast (trigger: cron[day_of_week='mon-sun', hour='7', minute='0'], next run at: 2019-12-22 07:00:00 EET)\" was missed by 0:00:01.108335\n",
      "DEBUG:apscheduler.scheduler:Next wakeup is due at 2019-12-22 11:00:00+02:00 (in 14398.946523 seconds)\n",
      "DEBUG:apscheduler.scheduler:Looking for jobs to run\n",
      "INFO:apscheduler.executors.default:Running job \"weather_forcast (trigger: cron[day_of_week='mon-sun', hour='11', minute='0'], next run at: 2019-12-22 11:00:00 EET)\" (scheduled at 2019-12-22 11:00:00+02:00)\n",
      "DEBUG:apscheduler.scheduler:Next wakeup is due at 2019-12-22 16:00:00+02:00 (in 17999.737901 seconds)\n"
     ]
    },
    {
     "name": "stdout",
     "output_type": "stream",
     "text": [
      "Current URL: https://www.accuweather.com/en/lb/akkar-al-atiqah/226717/weather-forecast/226717\n",
      "Current URL: https://www.accuweather.com/en/lb/akkar-al-atiqah/226717/hourly-weather-forecast/226717\n",
      "file name: 2019-12-22 11AM_Akkar.csv\n",
      "Current URL: https://www.accuweather.com/en/lb/adlun/228606/weather-forecast/228606\n",
      "Current URL: https://www.accuweather.com/en/lb/adlun/228606/hourly-weather-forecast/228606\n",
      "file name: 2019-12-22 11AM_Adloun.csv\n",
      "Current URL: https://www.accuweather.com/en/lb/ed-damour/229249/weather-forecast/229249\n",
      "Current URL: https://www.accuweather.com/en/lb/ed-damour/229249/hourly-weather-forecast/229249\n",
      "file name: 2019-12-22 11AM_Damour.csv\n",
      "Current URL: https://www.accuweather.com/en/lb/al-qa/227230/weather-forecast/227230\n",
      "Current URL: https://www.accuweather.com/en/lb/al-qa/227230/hourly-weather-forecast/227230\n",
      "file name: 2019-12-22 11AM_AlQaa.csv\n",
      "Current URL: https://www.accuweather.com/en/lb/jubb-jannin/227350/weather-forecast/227350\n",
      "Current URL: https://www.accuweather.com/en/lb/jubb-jannin/227350/hourly-weather-forecast/227350\n",
      "file name: 2019-12-22 11AM_Jeb Jeneen.csv\n",
      "Current URL: https://www.accuweather.com/en/lb/al-labwah/227229/weather-forecast/227229\n",
      "Current URL: https://www.accuweather.com/en/lb/al-labwah/227229/hourly-weather-forecast/227229\n",
      "file name: 2019-12-22 11AM_Labweh.csv\n",
      "Current URL: https://www.accuweather.com/en/lb/balabakk/227231/weather-forecast/227231\n",
      "Current URL: https://www.accuweather.com/en/lb/balabakk/227231/hourly-weather-forecast/227231\n",
      "file name: 2019-12-22 11AM_Baalbeck.csv\n",
      "Current URL: https://www.accuweather.com/en/lb/sur/228605/weather-forecast/228605\n",
      "Current URL: https://www.accuweather.com/en/lb/sur/228605/hourly-weather-forecast/228605\n",
      "file name: 2019-12-22 11AM_Sour.csv\n",
      "Current URL: https://www.accuweather.com/en/lb/an-naqurah/228607/weather-forecast/228607\n",
      "Current URL: https://www.accuweather.com/en/lb/an-naqurah/228607/hourly-weather-forecast/228607\n",
      "file name: 2019-12-22 11AM_Naqoura.csv\n",
      "Current URL: https://www.accuweather.com/en/lb/riyaq/227355/weather-forecast/227355\n",
      "Current URL: https://www.accuweather.com/en/lb/riyaq/227355/hourly-weather-forecast/227355\n",
      "file name: 2019-12-22 11AM_Riyaq.csv\n"
     ]
    },
    {
     "name": "stderr",
     "output_type": "stream",
     "text": [
      "INFO:apscheduler.executors.default:Job \"weather_forcast (trigger: cron[day_of_week='mon-sun', hour='11', minute='0'], next run at: 2019-12-23 11:00:00 EET)\" executed successfully\n",
      "DEBUG:apscheduler.scheduler:Looking for jobs to run\n",
      "INFO:apscheduler.executors.default:Running job \"weather_forcast (trigger: cron[day_of_week='mon-sun', hour='16', minute='0'], next run at: 2019-12-22 16:00:00 EET)\" (scheduled at 2019-12-22 16:00:00+02:00)\n",
      "DEBUG:apscheduler.scheduler:Next wakeup is due at 2019-12-23 07:00:00+02:00 (in 53999.663577 seconds)\n"
     ]
    },
    {
     "name": "stdout",
     "output_type": "stream",
     "text": [
      "Current URL: https://www.accuweather.com/en/lb/akkar-al-atiqah/226717/weather-forecast/226717\n",
      "Current URL: https://www.accuweather.com/en/lb/akkar-al-atiqah/226717/hourly-weather-forecast/226717\n",
      "file name: 2019-12-22 04PM_Akkar.csv\n",
      "Current URL: https://www.accuweather.com/en/lb/adlun/228606/weather-forecast/228606\n",
      "Current URL: https://www.accuweather.com/en/lb/adlun/228606/hourly-weather-forecast/228606\n",
      "file name: 2019-12-22 04PM_Adloun.csv\n",
      "Current URL: https://www.accuweather.com/en/lb/ed-damour/229249/weather-forecast/229249\n",
      "Current URL: https://www.accuweather.com/en/lb/ed-damour/229249/hourly-weather-forecast/229249\n",
      "file name: 2019-12-22 04PM_Damour.csv\n",
      "Current URL: https://www.accuweather.com/en/lb/al-qa/227230/weather-forecast/227230\n",
      "Current URL: https://www.accuweather.com/en/lb/al-qa/227230/hourly-weather-forecast/227230\n",
      "file name: 2019-12-22 04PM_AlQaa.csv\n",
      "Current URL: https://www.accuweather.com/en/lb/jubb-jannin/227350/weather-forecast/227350\n",
      "Current URL: https://www.accuweather.com/en/lb/jubb-jannin/227350/hourly-weather-forecast/227350\n",
      "file name: 2019-12-22 04PM_Jeb Jeneen.csv\n",
      "Current URL: https://www.accuweather.com/en/lb/al-labwah/227229/weather-forecast/227229\n",
      "Current URL: https://www.accuweather.com/en/lb/al-labwah/227229/hourly-weather-forecast/227229\n",
      "file name: 2019-12-22 04PM_Labweh.csv\n",
      "Current URL: https://www.accuweather.com/en/lb/balabakk/227231/weather-forecast/227231\n",
      "Current URL: https://www.accuweather.com/en/lb/balabakk/227231/hourly-weather-forecast/227231\n",
      "file name: 2019-12-22 04PM_Baalbeck.csv\n",
      "Current URL: https://www.accuweather.com/en/lb/sur/228605/weather-forecast/228605\n",
      "Current URL: https://www.accuweather.com/en/lb/sur/228605/hourly-weather-forecast/228605\n",
      "file name: 2019-12-22 04PM_Sour.csv\n",
      "Current URL: https://www.accuweather.com/en/lb/an-naqurah/228607/weather-forecast/228607\n",
      "Current URL: https://www.accuweather.com/en/lb/an-naqurah/228607/hourly-weather-forecast/228607\n",
      "file name: 2019-12-22 04PM_Naqoura.csv\n",
      "Current URL: https://www.accuweather.com/en/lb/riyaq/227355/weather-forecast/227355\n",
      "Current URL: https://www.accuweather.com/en/lb/riyaq/227355/hourly-weather-forecast/227355\n",
      "file name: 2019-12-22 04PM_Riyaq.csv\n"
     ]
    },
    {
     "name": "stderr",
     "output_type": "stream",
     "text": [
      "INFO:apscheduler.executors.default:Job \"weather_forcast (trigger: cron[day_of_week='mon-sun', hour='16', minute='0'], next run at: 2019-12-23 16:00:00 EET)\" executed successfully\n",
      "DEBUG:apscheduler.scheduler:Looking for jobs to run\n",
      "WARNING:apscheduler.executors.default:Run time of job \"weather_forcast (trigger: cron[day_of_week='mon-sun', hour='7', minute='0'], next run at: 2019-12-23 07:00:00 EET)\" was missed by 4:38:02.523168\n",
      "WARNING:apscheduler.executors.default:Run time of job \"weather_forcast (trigger: cron[day_of_week='mon-sun', hour='11', minute='0'], next run at: 2019-12-24 11:00:00 EET)\" was missed by 0:38:02.544025\n",
      "DEBUG:apscheduler.scheduler:Next wakeup is due at 2019-12-23 16:00:00+02:00 (in 15717.567340 seconds)\n",
      "DEBUG:apscheduler.scheduler:Looking for jobs to run\n",
      "WARNING:apscheduler.executors.default:Run time of job \"weather_forcast (trigger: cron[day_of_week='mon-sun', hour='16', minute='0'], next run at: 2019-12-23 16:00:00 EET)\" was missed by 0:34:11.738839\n",
      "DEBUG:apscheduler.scheduler:Next wakeup is due at 2019-12-24 07:00:00+02:00 (in 51948.360738 seconds)\n",
      "DEBUG:apscheduler.scheduler:Looking for jobs to run\n",
      "WARNING:apscheduler.executors.default:Run time of job \"weather_forcast (trigger: cron[day_of_week='mon-sun', hour='7', minute='0'], next run at: 2019-12-24 07:00:00 EET)\" was missed by 3:26:50.412619\n",
      "DEBUG:apscheduler.scheduler:Next wakeup is due at 2019-12-24 11:00:00+02:00 (in 1989.742522 seconds)\n",
      "DEBUG:apscheduler.scheduler:Looking for jobs to run\n",
      "WARNING:apscheduler.executors.default:Run time of job \"weather_forcast (trigger: cron[day_of_week='mon-sun', hour='11', minute='0'], next run at: 2019-12-24 11:00:00 EET)\" was missed by 0:02:36.904969\n",
      "DEBUG:apscheduler.scheduler:Next wakeup is due at 2019-12-24 16:00:00+02:00 (in 17843.102770 seconds)\n",
      "DEBUG:apscheduler.scheduler:Looking for jobs to run\n",
      "WARNING:apscheduler.executors.default:Run time of job \"weather_forcast (trigger: cron[day_of_week='mon-sun', hour='16', minute='0'], next run at: 2019-12-24 16:00:00 EET)\" was missed by 5:07:37.423389\n",
      "DEBUG:apscheduler.scheduler:Next wakeup is due at 2019-12-25 07:00:00+02:00 (in 35542.585809 seconds)\n",
      "DEBUG:apscheduler.scheduler:Looking for jobs to run\n",
      "WARNING:apscheduler.executors.default:Run time of job \"weather_forcast (trigger: cron[day_of_week='mon-sun', hour='7', minute='0'], next run at: 2019-12-26 07:00:00 EET)\" was missed by 15:47:50.418458\n",
      "DEBUG:apscheduler.scheduler:Next wakeup is due at 2019-12-26 07:00:00+02:00 (in 29529.588441 seconds)\n",
      "WARNING:apscheduler.executors.default:Run time of job \"weather_forcast (trigger: cron[day_of_week='mon-sun', hour='11', minute='0'], next run at: 2019-12-26 11:00:00 EET)\" was missed by 11:47:50.422840\n",
      "WARNING:apscheduler.executors.default:Run time of job \"weather_forcast (trigger: cron[day_of_week='mon-sun', hour='16', minute='0'], next run at: 2019-12-26 16:00:00 EET)\" was missed by 6:47:50.426533\n",
      "DEBUG:apscheduler.scheduler:Looking for jobs to run\n",
      "WARNING:apscheduler.executors.default:Run time of job \"weather_forcast (trigger: cron[day_of_week='mon-sun', hour='7', minute='0'], next run at: 2019-12-27 07:00:00 EET)\" was missed by 9:17:26.484334\n",
      "DEBUG:apscheduler.scheduler:Next wakeup is due at 2019-12-27 07:00:00+02:00 (in 52953.521942 seconds)\n",
      "WARNING:apscheduler.executors.default:Run time of job \"weather_forcast (trigger: cron[day_of_week='mon-sun', hour='11', minute='0'], next run at: 2019-12-27 11:00:00 EET)\" was missed by 5:17:26.492264\n",
      "WARNING:apscheduler.executors.default:Run time of job \"weather_forcast (trigger: cron[day_of_week='mon-sun', hour='16', minute='0'], next run at: 2019-12-27 16:00:00 EET)\" was missed by 0:17:26.493785\n",
      "DEBUG:apscheduler.scheduler:Looking for jobs to run\n",
      "DEBUG:apscheduler.scheduler:Next wakeup is due at 2019-12-28 07:00:00+02:00 (in 17392.940399 seconds)\n",
      "WARNING:apscheduler.executors.default:Run time of job \"weather_forcast (trigger: cron[day_of_week='mon-sun', hour='7', minute='0'], next run at: 2019-12-28 07:00:00 EET)\" was missed by 19:10:07.069283\n",
      "WARNING:apscheduler.executors.default:Run time of job \"weather_forcast (trigger: cron[day_of_week='mon-sun', hour='11', minute='0'], next run at: 2019-12-28 11:00:00 EET)\" was missed by 15:10:07.075009\n",
      "WARNING:apscheduler.executors.default:Run time of job \"weather_forcast (trigger: cron[day_of_week='mon-sun', hour='16', minute='0'], next run at: 2019-12-28 16:00:00 EET)\" was missed by 10:10:07.075862\n"
     ]
    }
   ],
   "source": [
    "try:\n",
    "    scheduler = BackgroundScheduler()\n",
    "    scheduler.configure()\n",
    "\n",
    "    date = datetime.datetime.now()\n",
    "\n",
    "    scheduler.add_job(weather_forcast, 'cron', day_of_week=\"mon-sun\", hour=7, minute=0)\n",
    "    scheduler.add_job(weather_forcast, 'cron', day_of_week=\"mon-sun\", hour=11, minute=0)\n",
    "    scheduler.add_job(weather_forcast, 'cron', day_of_week=\"mon-sun\", hour=16, minute=0)\n",
    "\n",
    "    logging.basicConfig()\n",
    "    logging.getLogger('apscheduler').setLevel(logging.DEBUG)\n",
    "    \n",
    "    scheduler.start()\n",
    "except Exception as e:\n",
    "    logger.exception(e)\n",
    "    pass\n",
    "#     scheduler.shutdown() \n",
    "    "
   ]
  }
 ],
 "metadata": {
  "kernelspec": {
   "display_name": "Python 3",
   "language": "python",
   "name": "python3"
  },
  "language_info": {
   "codemirror_mode": {
    "name": "ipython",
    "version": 3
   },
   "file_extension": ".py",
   "mimetype": "text/x-python",
   "name": "python",
   "nbconvert_exporter": "python",
   "pygments_lexer": "ipython3",
   "version": "3.6.9"
  }
 },
 "nbformat": 4,
 "nbformat_minor": 2
}
